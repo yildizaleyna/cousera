{
 "cells": [
  {
   "cell_type": "markdown",
   "id": "c6813f48-215d-4555-a49f-5c8604c62d5a",
   "metadata": {},
   "source": [
    "# My Jupyter Notebook on IBM Watson Studio"
   ]
  },
  {
   "cell_type": "markdown",
   "id": "2647e421-dc07-4c7a-8f5e-cf0610eca9be",
   "metadata": {},
   "source": [
    "## Aleyna Yildiz\n",
    "Student"
   ]
  },
  {
   "cell_type": "markdown",
   "id": "8d5ac9d9-8b70-4e90-8d6d-f095f3ec3806",
   "metadata": {},
   "source": [
    "*I am interested in data science because, i can see myself in the future in front of the computer and writing codes and analyze sth. I am tend to work on statistics and coding.\n",
    "Technology is getting improved and we have to catch it. Data analyst will be one of the most wanted jobs in the future i guess,  and since i am interested in data, i want to improve my skill in this area.*"
   ]
  },
  {
   "cell_type": "markdown",
   "id": "bed1541c-6220-4b62-a078-a2fa83de5e4e",
   "metadata": {},
   "source": [
    "### The code below shows the calculation of 3*5"
   ]
  },
  {
   "cell_type": "code",
   "execution_count": 1,
   "id": "152b8c95-1aab-498a-ac32-9787e2104c7d",
   "metadata": {},
   "outputs": [
    {
     "name": "stdout",
     "output_type": "stream",
     "text": [
      "15\n"
     ]
    }
   ],
   "source": [
    "print(3*5)"
   ]
  },
  {
   "cell_type": "markdown",
   "id": "73467881-3a97-42fc-a503-a2b42768670d",
   "metadata": {},
   "source": [
    "[I'm an inline-style link to ibm website](https://www.ibm.com/)\n"
   ]
  },
  {
   "cell_type": "markdown",
   "id": "8da537f8-bd30-4f3e-9ee7-abfc44605d71",
   "metadata": {},
   "source": [
    "| Tv Shows        | Episodes           | IMDb Score  |\n",
    "| ------------- |:-------------:| -----:|\n",
    "| The Office      | 201 | 8.9 |\n",
    "| Brooklyn 99     | 151      |   8.4 |"
   ]
  },
  {
   "cell_type": "markdown",
   "id": "65a87b26-5d3c-4f67-aca3-4fd3c4beba12",
   "metadata": {},
   "source": [
    "This\n",
    "*****\n",
    "Is\n",
    "*****\n",
    "A\n",
    "*****\n",
    "Horizontal\n",
    "*****\n",
    "Rule"
   ]
  },
  {
   "cell_type": "code",
   "execution_count": null,
   "id": "7f3a135f-53fb-4cdc-b90f-8384d5c27de6",
   "metadata": {},
   "outputs": [],
   "source": []
  }
 ],
 "metadata": {
  "kernelspec": {
   "display_name": "Python",
   "language": "python",
   "name": "conda-env-python-py"
  },
  "language_info": {
   "codemirror_mode": {
    "name": "ipython",
    "version": 3
   },
   "file_extension": ".py",
   "mimetype": "text/x-python",
   "name": "python",
   "nbconvert_exporter": "python",
   "pygments_lexer": "ipython3",
   "version": "3.6.13"
  }
 },
 "nbformat": 4,
 "nbformat_minor": 5
}
